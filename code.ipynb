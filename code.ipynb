{
  "nbformat": 4,
  "nbformat_minor": 0,
  "metadata": {
    "colab": {
      "name": "code.ipynb",
      "provenance": [],
      "collapsed_sections": []
    },
    "kernelspec": {
      "name": "python3",
      "display_name": "Python 3"
    },
    "language_info": {
      "name": "python"
    }
  },
  "cells": [
    {
      "cell_type": "code",
      "metadata": {
        "colab": {
          "base_uri": "https://localhost:8080/"
        },
        "id": "kfgA7Y3gwBT_",
        "outputId": "86a97cb6-61e6-4b09-d95f-812aeacecfa3"
      },
      "source": [
        "#mounting google drive\n",
        "from google.colab import drive\n",
        "drive.mount('/content/drive')\n"
      ],
      "execution_count": 34,
      "outputs": [
        {
          "output_type": "stream",
          "text": [
            "Drive already mounted at /content/drive; to attempt to forcibly remount, call drive.mount(\"/content/drive\", force_remount=True).\n"
          ],
          "name": "stdout"
        }
      ]
    },
    {
      "cell_type": "code",
      "metadata": {
        "id": "2tmynQtfx7_m"
      },
      "source": [
        "import pandas as pd\n",
        "#opening the data file in read mode\n",
        "df = pd.read_csv('/content/drive/My Drive/data.txt',  encoding='cp1252' ,sep='\\t', na_filter=False)\n",
        "\n",
        "#getting only the text of each data item and ignoring date and title.\n",
        "text=df.iloc[:,2].values\n"
      ],
      "execution_count": 35,
      "outputs": []
    },
    {
      "cell_type": "code",
      "metadata": {
        "colab": {
          "base_uri": "https://localhost:8080/"
        },
        "id": "Af7IaEP15FtE",
        "outputId": "4479ed4a-81ee-44e8-b16a-2b037373c902"
      },
      "source": [
        "def removePunc(string):\n",
        "  punc = '''!()-[]{};:'\"\\, <>./?@#$%^&*_~'''\n",
        "  # Removing punctuations in string\n",
        "  # Using loop + punctuation string\n",
        "  for ch in string: \n",
        "    if ch in punc:\n",
        "      string = string.replace(ch, ' ')\n",
        "  return string\n",
        "\n",
        "def removeDigits(string):\n",
        "  for i in range(10):\n",
        "    string=string.replace(str(i),' ')\n",
        "  return string\n",
        "\n",
        "#removing punctuation\n",
        "text=list(map(removePunc, text))\n",
        "\n",
        "#removing digits\n",
        "text=list(map(removeDigits, text))\n",
        "\n",
        "\n",
        "#tokenizing\n",
        "import nltk\n",
        "nltk.download('punkt')\n",
        "\n",
        "tokenizedText=[nltk.word_tokenize(item) for item in text]"
      ],
      "execution_count": 36,
      "outputs": [
        {
          "output_type": "stream",
          "text": [
            "[nltk_data] Downloading package punkt to /root/nltk_data...\n",
            "[nltk_data]   Package punkt is already up-to-date!\n"
          ],
          "name": "stdout"
        }
      ]
    },
    {
      "cell_type": "code",
      "metadata": {
        "id": "XbVw9nhL5mgj"
      },
      "source": [
        "#learning word embeddings using Gensim library\n",
        "from gensim.models import Word2Vec, KeyedVectors\n",
        "import nltk\n",
        "\n",
        "model=Word2Vec(tokenizedText, size=32, window=5, min_count=5, workers=4)\n"
      ],
      "execution_count": 37,
      "outputs": []
    },
    {
      "cell_type": "code",
      "metadata": {
        "id": "InhdCilN7UnD",
        "colab": {
          "base_uri": "https://localhost:8080/"
        },
        "outputId": "6e9acbd5-0007-449a-d6fd-934f0df6c638"
      },
      "source": [
        "model.wv.most_similar('unclean')"
      ],
      "execution_count": 38,
      "outputs": [
        {
          "output_type": "execute_result",
          "data": {
            "text/plain": [
              "[('dingy', 0.9199990034103394),\n",
              " ('grubby', 0.9152362942695618),\n",
              " ('dirty', 0.9130697846412659),\n",
              " ('grimy', 0.9057689905166626),\n",
              " ('gloomy', 0.8963730931282043),\n",
              " ('smelly', 0.8794164657592773),\n",
              " ('dusty', 0.8787200450897217),\n",
              " ('stained', 0.8753623366355896),\n",
              " ('threadbare', 0.8740395307540894),\n",
              " ('faded', 0.8736695051193237)]"
            ]
          },
          "metadata": {
            "tags": []
          },
          "execution_count": 38
        }
      ]
    },
    {
      "cell_type": "code",
      "metadata": {
        "id": "D0Owq6gb7b3C",
        "colab": {
          "base_uri": "https://localhost:8080/"
        },
        "outputId": "e740ed8f-c7e3-4e91-c9c5-8dc5d28588e3"
      },
      "source": [
        "model.wv.most_similar('clean')"
      ],
      "execution_count": 39,
      "outputs": [
        {
          "output_type": "execute_result",
          "data": {
            "text/plain": [
              "[('spotless', 0.9145183563232422),\n",
              " ('tidy', 0.9018220901489258),\n",
              " ('spacious', 0.9009952545166016),\n",
              " ('immaculate', 0.8860512375831604),\n",
              " ('roomy', 0.8777523040771484),\n",
              " ('serviceable', 0.8395667672157288),\n",
              " ('comfortable', 0.8185755014419556),\n",
              " ('confortable', 0.8181747794151306),\n",
              " ('spotlessly', 0.8174622058868408),\n",
              " ('cosy', 0.8091543316841125)]"
            ]
          },
          "metadata": {
            "tags": []
          },
          "execution_count": 39
        }
      ]
    },
    {
      "cell_type": "code",
      "metadata": {
        "id": "S_DFRWhy7da7",
        "colab": {
          "base_uri": "https://localhost:8080/"
        },
        "outputId": "0046d8f9-c582-411c-91d6-07a214470471"
      },
      "source": [
        "model.wv.most_similar('amazed')"
      ],
      "execution_count": 40,
      "outputs": [
        {
          "output_type": "execute_result",
          "data": {
            "text/plain": [
              "[('suprised', 0.9023692607879639),\n",
              " ('shocked', 0.883480966091156),\n",
              " ('surprised', 0.8822177648544312),\n",
              " ('stunned', 0.8649463653564453),\n",
              " ('impressed', 0.8647155165672302),\n",
              " ('thrilled', 0.8595256805419922),\n",
              " ('dissappointed', 0.8492713570594788),\n",
              " ('disappointed', 0.8491147756576538),\n",
              " ('dissapointed', 0.8248957395553589),\n",
              " ('wowed', 0.8247593641281128)]"
            ]
          },
          "metadata": {
            "tags": []
          },
          "execution_count": 40
        }
      ]
    },
    {
      "cell_type": "code",
      "metadata": {
        "id": "57j70l-X7nxp",
        "colab": {
          "base_uri": "https://localhost:8080/"
        },
        "outputId": "aea5af44-9b17-4d2a-fc6b-7778ac122271"
      },
      "source": [
        "model.wv.most_similar('friends')"
      ],
      "execution_count": 45,
      "outputs": [
        {
          "output_type": "execute_result",
          "data": {
            "text/plain": [
              "[('parents', 0.8899226784706116),\n",
              " ('girlfriends', 0.8783572912216187),\n",
              " ('family', 0.8620601296424866),\n",
              " ('colleagues', 0.8587489128112793),\n",
              " ('sons', 0.8356339931488037),\n",
              " ('buddies', 0.8316344022750854),\n",
              " ('daughters', 0.8274226188659668),\n",
              " ('brothers', 0.8190581798553467),\n",
              " ('relatives', 0.8154125809669495),\n",
              " ('sisters', 0.8132781982421875)]"
            ]
          },
          "metadata": {
            "tags": []
          },
          "execution_count": 45
        }
      ]
    }
  ]
}